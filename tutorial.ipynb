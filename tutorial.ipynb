{
 "cells": [
  {
   "cell_type": "markdown",
   "metadata": {},
   "source": [
    "# Install Environment"
   ]
  },
  {
   "cell_type": "code",
   "execution_count": null,
   "metadata": {
    "execution": {
     "iopub.execute_input": "2022-07-15T09:07:33.508123Z",
     "iopub.status.busy": "2022-07-15T09:07:33.507727Z",
     "iopub.status.idle": "2022-07-15T09:07:41.372135Z",
     "shell.execute_reply": "2022-07-15T09:07:41.370930Z",
     "shell.execute_reply.started": "2022-07-15T09:07:33.508005Z"
    },
    "scrolled": true,
    "tags": []
   },
   "outputs": [],
   "source": [
    "%pip install mmcv-full==1.3.17 -f https://download.openmmlab.com/mmcv/dist/cu102/torch1.9.0/index.html\n",
    "%pip install -r requirements.txt\n",
    "!python setup.py develop"
   ]
  },
  {
   "cell_type": "markdown",
   "metadata": {
    "tags": []
   },
   "source": [
    "# 训练指令"
   ]
  },
  {
   "cell_type": "markdown",
   "metadata": {},
   "source": [
    "## Deoldify"
   ]
  },
  {
   "cell_type": "markdown",
   "metadata": {},
   "source": [
    "### 配置路径\n",
    "* [deoldify_nogan_Gonly.py](configs/deoldify/deoldify_nogan_Gonly.py) \n",
    "* dataroot =\"./data/ILSVRC\"\n",
    "* 数据集为demo数据集，路径为./data/ILSVRC"
   ]
  },
  {
   "cell_type": "code",
   "execution_count": null,
   "metadata": {
    "execution": {
     "iopub.execute_input": "2022-07-15T09:07:41.375843Z",
     "iopub.status.busy": "2022-07-15T09:07:41.375381Z",
     "iopub.status.idle": "2022-07-15T09:09:34.623107Z",
     "shell.execute_reply": "2022-07-15T09:09:34.621687Z",
     "shell.execute_reply.started": "2022-07-15T09:07:41.375795Z"
    },
    "tags": []
   },
   "outputs": [],
   "source": [
    "!python ./tools/train.py \\\n",
    "configs/deoldify/deoldify_nogan_Gonly.py \\\n",
    "--work-dir=./work_dirs/Gonly"
   ]
  },
  {
   "cell_type": "markdown",
   "metadata": {},
   "source": [
    "### 配置路径\n",
    "* [configs/deoldify/deoldify_nogan_Donly.py](configs/deoldify/deoldify_nogan_Donly.py) \n",
    "* dataroot =\"./data/ILSVRC\"\n",
    "* 数据集为demo数据集，路径为./data/ILSVRC\n",
    "* 模型文件input1为obvisionflow预训练模型：DeOldify_ILSVRC_Pretrained_latest.pth，ID为Ia3EMC6xMSA"
   ]
  },
  {
   "cell_type": "code",
   "execution_count": null,
   "metadata": {
    "execution": {
     "iopub.execute_input": "2022-07-15T09:09:34.626491Z",
     "iopub.status.busy": "2022-07-15T09:09:34.625908Z",
     "iopub.status.idle": "2022-07-15T09:10:16.502525Z",
     "shell.execute_reply": "2022-07-15T09:10:16.501371Z",
     "shell.execute_reply.started": "2022-07-15T09:09:34.626442Z"
    },
    "tags": []
   },
   "outputs": [],
   "source": [
    "!python ./tools/train.py \\\n",
    "configs/deoldify/deoldify_nogan_Donly.py \\\n",
    "--work-dir=./work_dirs/Donly \\\n",
    "--resume-from=/openbayes/input/input1/DeOldify_ILSVRC_Pretrained_latest.pth"
   ]
  },
  {
   "cell_type": "markdown",
   "metadata": {},
   "source": [
    "### 配置路径\n",
    "* [configs/deoldify/deoldify_nogan_GandD.py](configs/deoldify/deoldify_nogan_GandD.py) \n",
    "* dataroot =\"./data/ILSVRC\"\n",
    "* 数据集为demo数据集，路径为./data/ILSVRC\n",
    "* 模型文件input1为obvisionflow预训练模型：DeOldify_ILSVRC_Pretrained_latest.pth，ID为Ia3EMC6xMSA"
   ]
  },
  {
   "cell_type": "code",
   "execution_count": null,
   "metadata": {
    "execution": {
     "iopub.execute_input": "2022-07-15T09:10:16.505152Z",
     "iopub.status.busy": "2022-07-15T09:10:16.504688Z",
     "iopub.status.idle": "2022-07-15T09:10:53.892612Z",
     "shell.execute_reply": "2022-07-15T09:10:53.891236Z",
     "shell.execute_reply.started": "2022-07-15T09:10:16.505105Z"
    },
    "tags": []
   },
   "outputs": [],
   "source": [
    "!python ./tools/train.py \\\n",
    "configs/deoldify/deoldify_nogan_GandD.py \\\n",
    "--work-dir=./work_dirs/GandD \\\n",
    "--resume-from=/openbayes/input/input1/DeOldify_ILSVRC_Pretrained_latest.pth"
   ]
  },
  {
   "cell_type": "markdown",
   "metadata": {},
   "source": [
    "### 配置路径\n",
    "* [configs/deoldify/deoldify_nogan_GandD_finetune.py](configs/deoldify/deoldify_nogan_GandD_finetune.py) \n",
    "* dataroot =\"/openbayes/input/input0/\"\n",
    "* 数据集input0为人间正道是沧桑_视频，ID为8Tc8BxaDuF8\n",
    "* 模型文件input1为obvisionflow预训练模型：DeOldify_ILSVRC_Pretrained_latest.pth，ID为Ia3EMC6xMSA"
   ]
  },
  {
   "cell_type": "code",
   "execution_count": null,
   "metadata": {
    "execution": {
     "iopub.execute_input": "2022-07-15T09:10:53.896055Z",
     "iopub.status.busy": "2022-07-15T09:10:53.895520Z",
     "iopub.status.idle": "2022-07-15T09:11:12.516613Z",
     "shell.execute_reply": "2022-07-15T09:11:12.515204Z",
     "shell.execute_reply.started": "2022-07-15T09:10:53.896007Z"
    }
   },
   "outputs": [],
   "source": [
    "!python ./tools/train.py \\\n",
    "configs/deoldify/deoldify_nogan_GandD_finetune.py \\\n",
    "--work-dir=./work_dirs/GandD_finetune \\\n",
    "--resume-from=/openbayes/input/input1/DeOldify_ILSVRC_Pretrained_latest.pth"
   ]
  },
  {
   "cell_type": "markdown",
   "metadata": {
    "execution": {
     "iopub.execute_input": "2022-06-02T07:20:18.274518Z",
     "iopub.status.busy": "2022-06-02T07:20:18.273991Z",
     "iopub.status.idle": "2022-06-02T07:20:18.288572Z",
     "shell.execute_reply": "2022-06-02T07:20:18.287355Z",
     "shell.execute_reply.started": "2022-06-02T07:20:18.274390Z"
    }
   },
   "source": [
    "### 配置路径\n",
    "* [configs/deoldify/deoldify_nogan_GandD_Lab.py](configs/deoldify/deoldify_nogan_GandD_Lab.py) \n",
    "* dataroot =\"./data/ILSVRC\"\n",
    "* 数据集为demo数据集，路径为./data/ILSVRC"
   ]
  },
  {
   "cell_type": "code",
   "execution_count": null,
   "metadata": {
    "execution": {
     "iopub.execute_input": "2022-07-15T09:11:12.520191Z",
     "iopub.status.busy": "2022-07-15T09:11:12.519542Z",
     "iopub.status.idle": "2022-07-15T09:11:41.750322Z",
     "shell.execute_reply": "2022-07-15T09:11:41.749164Z",
     "shell.execute_reply.started": "2022-07-15T09:11:12.520142Z"
    },
    "tags": []
   },
   "outputs": [],
   "source": [
    "!python ./tools/train.py \\\n",
    "configs/deoldify/deoldify_nogan_GandD_Lab.py \\\n",
    "--work-dir=./work_dirs/GandD_Lab"
   ]
  },
  {
   "cell_type": "markdown",
   "metadata": {},
   "source": [
    "## Quantexsr"
   ]
  },
  {
   "cell_type": "markdown",
   "metadata": {},
   "source": [
    "### 配置路径\n",
    "* [./configs/quantexsr/Quantexsr.py](./configs/quantexsr/Quantexsr.py)\n",
    "* lq_folder=\"./data/Quantexsr_demo/lq\", gt_folder=\"./data/Quantexsr_demo/gt\"\n",
    "* weight=\"/openbayes/input/input1/FeMaSR_SRX4_model_g.pth\"\n",
    "* 数据集为demo数据集，路径为./data/Quantexsr_demo\n",
    "* 模型文件input1为obvisionflow预训练模型：FeMaSR_SRX4_model_g.pth，ID为Ia3EMC6xMSA"
   ]
  },
  {
   "cell_type": "code",
   "execution_count": null,
   "metadata": {
    "execution": {
     "iopub.execute_input": "2022-07-15T09:11:41.754623Z",
     "iopub.status.busy": "2022-07-15T09:11:41.754164Z",
     "iopub.status.idle": "2022-07-15T09:12:20.388869Z",
     "shell.execute_reply": "2022-07-15T09:12:20.388081Z",
     "shell.execute_reply.started": "2022-07-15T09:11:41.754576Z"
    },
    "tags": []
   },
   "outputs": [],
   "source": [
    "!python ./tools/train.py configs/quantexsr/Quantexsr.py --work-dir=./work_dirs/Quantexsr"
   ]
  },
  {
   "cell_type": "markdown",
   "metadata": {},
   "source": [
    "### 配置路径\n",
    "* [./configs/quantexsr/Quantexsr.py](./configs/quantexsr/Quantexsr.py)\n",
    "* lq_folder=\"./data/Quantexsr_demo/lq\", gt_folder=\"./data/Quantexsr_demo/gt\"\n",
    "* weight=\"/openbayes/input/input1/FeMaSR_SRX4_model_g.pth\"\n",
    "* 数据集为demo数据集，路径为./data/Quantexsr_demo\n",
    "* 模型文件input1为obvisionflow预训练模型：FeMaSR_SRX4_model_g.pth，ID为Ia3EMC6xMSA"
   ]
  },
  {
   "cell_type": "code",
   "execution_count": null,
   "metadata": {
    "execution": {
     "iopub.execute_input": "2022-07-15T09:12:20.390403Z",
     "iopub.status.busy": "2022-07-15T09:12:20.390122Z",
     "iopub.status.idle": "2022-07-15T09:12:39.142684Z",
     "shell.execute_reply": "2022-07-15T09:12:39.141288Z",
     "shell.execute_reply.started": "2022-07-15T09:12:20.390375Z"
    },
    "tags": []
   },
   "outputs": [],
   "source": [
    "!python ./tools/test.py \\\n",
    "./configs/quantexsr/Quantexsr.py \\\n",
    "/openbayes/input/input1/FeMaSR_SRX4_model_g.pth \\\n",
    "--save-path ./results/"
   ]
  },
  {
   "cell_type": "markdown",
   "metadata": {},
   "source": [
    "## Interactive Colorization"
   ]
  },
  {
   "cell_type": "markdown",
   "metadata": {},
   "source": [
    "### 配置路径\n",
    "* [color_siggraph_train_small.py](configs/mmcolor/color_siggraph_train_small.py) \n",
    "* dataroot =\"./data/ILSVRC/train_small\"\n",
    "* 数据集为demo数据集，路径为./data/ILSVRC/train_small\n",
    "* 效果展示：可在demo/Interactive-demo.ipynb中加载pth路径 “../work_dirs/color_siggraph_train_small/ckpt/color_siggraph_train_small/latest.pth”查看上色效果"
   ]
  },
  {
   "cell_type": "code",
   "execution_count": null,
   "metadata": {},
   "outputs": [],
   "source": [
    "!python ./tools/train.py \\\n",
    "./configs/mmcolor/color_siggraph_train_small.py "
   ]
  },
  {
   "cell_type": "markdown",
   "metadata": {},
   "source": [
    "### 配置路径\n",
    "* [color_siggraph_train.py](configs/mmcolor/color_siggraph_train.py) \n",
    "* 测试单张图效果需修改config文件color_siggraph_train.py默认路径为，dataroot =\"./data/ILSVRC\"\n",
    "* 数据集为demo数据集，路径为./data/ILSVRC\n",
    "* 可修改color_siggraph_train.py中total_iters=1000，加快单图测试\n",
    "* 效果展示：可在demo/Interactive-demo.ipynb中加载pth“../work_dirs/color_siggraph_train/ckpt/color_siggraph_train/latest.pth”查看上色效果"
   ]
  },
  {
   "cell_type": "code",
   "execution_count": null,
   "metadata": {},
   "outputs": [],
   "source": [
    "!python ./tools/train.py \\\n",
    "./configs/mmcolor/color_siggraph_train.py"
   ]
  },
  {
   "cell_type": "markdown",
   "metadata": {},
   "source": [
    "### 配置路径\n",
    "* [color_siggraph_regre1.py](configs/mmcolor/color_siggraph_regre1.py) \n",
    "* 测试单张图效果需修改config文件color_siggraph_regre1.py默认路径为，dataroot =\"./data/ILSVRC\"\n",
    "* 数据集为demo数据集，路径为./data/ILSVRC\n",
    "* 可修改color_siggraph_regre1.py中total_iters=800，加快单图测试\n",
    "* 效果展示：可在demo/Interactive-demo.ipynb中加载pth“../work_dirs/color_siggraph_regre1/ckpt/color_siggraph_regre1/latest.pth”查看上色效果"
   ]
  },
  {
   "cell_type": "code",
   "execution_count": null,
   "metadata": {},
   "outputs": [],
   "source": [
    "!python ./tools/train.py \\\n",
    "./configs/mmcolor/color_siggraph_regre1.py"
   ]
  },
  {
   "cell_type": "markdown",
   "metadata": {},
   "source": [
    "### 配置路径\n",
    "* [color_siggraph_regre2.py](configs/mmcolor/color_siggraph_regre2.py) \n",
    "* 测试单张图效果需修改config文件color_siggraph_regre2.py默认路径为，dataroot =\"./data/ILSVRC\"\n",
    "* 数据集为demo数据集，路径为./data/ILSVRC\n",
    "* 可修改color_siggraph_regre2.py中total_iters=800，加快单图测试\n",
    "* 效果展示：可在demo/Interactive-demo.ipynb中加载pth“../work_dirs/color_siggraph_regre2/ckpt/color_siggraph_regre2/latest.pth”查看上色效果"
   ]
  },
  {
   "cell_type": "code",
   "execution_count": null,
   "metadata": {},
   "outputs": [],
   "source": [
    "!python ./tools/train.py \\\n",
    "./configs/mmcolor/color_siggraph_regre2.py"
   ]
  },
  {
   "cell_type": "markdown",
   "metadata": {},
   "source": [
    "# 运行demo"
   ]
  },
  {
   "cell_type": "markdown",
   "metadata": {
    "execution": {
     "iopub.execute_input": "2022-06-02T02:57:23.815194Z",
     "iopub.status.busy": "2022-06-02T02:57:23.814677Z",
     "iopub.status.idle": "2022-06-02T02:57:23.823518Z",
     "shell.execute_reply": "2022-06-02T02:57:23.821963Z",
     "shell.execute_reply.started": "2022-06-02T02:57:23.815128Z"
    }
   },
   "source": [
    "### 配置路径\n",
    "* [./demo/image_demo.py](./demo/image_demo.py)\n",
    "* 数据集为demo数据集，路径为./data/ILSVRC\n",
    "* 模型文件input1为obvisionflow预训练模型：DeOldify_ILSVRC_Pretrained_latest.pth，ID为Ia3EMC6xMSA"
   ]
  },
  {
   "cell_type": "code",
   "execution_count": null,
   "metadata": {
    "execution": {
     "iopub.execute_input": "2022-07-15T09:12:39.146031Z",
     "iopub.status.busy": "2022-07-15T09:12:39.145503Z",
     "iopub.status.idle": "2022-07-15T09:13:08.803279Z",
     "shell.execute_reply": "2022-07-15T09:13:08.801867Z",
     "shell.execute_reply.started": "2022-07-15T09:12:39.145983Z"
    },
    "tags": []
   },
   "outputs": [],
   "source": [
    "!python demo/image_demo.py \\\n",
    "./data/ILSVRC/test/dog.jpeg \\\n",
    "configs/deoldify/deoldify_pretrained.py \\\n",
    "/openbayes/input/input1/DeOldify_ILSVRC_Pretrained_latest.pth \\\n",
    "--out ./results/deoldify/test_results.jpg \\\n",
    "--deoldify_pretrained"
   ]
  },
  {
   "cell_type": "markdown",
   "metadata": {
    "execution": {
     "iopub.execute_input": "2022-06-02T02:36:20.089065Z",
     "iopub.status.busy": "2022-06-02T02:36:20.088484Z",
     "iopub.status.idle": "2022-06-02T02:36:20.105525Z",
     "shell.execute_reply": "2022-06-02T02:36:20.104149Z",
     "shell.execute_reply.started": "2022-06-02T02:36:20.088907Z"
    }
   },
   "source": [
    "### 配置路径\n",
    "* [./demo/Quantexsr_demo.py](./demo/Quantexsr_demo.py)\n",
    "* lq_folder=\"./data/Quantexsr_demo/lq\", gt_folder=\"./data/Quantexsr_demo/gt\"\n",
    "* weight=\"/openbayes/input/input1/FeMaSR_SRX4_model_g.pth\"\n",
    "* 数据集为demo数据集，路径为./data/Quantexsr_demo\n",
    "* 模型文件input1为obvisionflow预训练模型：FeMaSR_SRX4_model_g.pth，ID为Ia3EMC6xMSA"
   ]
  },
  {
   "cell_type": "code",
   "execution_count": null,
   "metadata": {
    "execution": {
     "iopub.execute_input": "2022-07-15T09:13:08.806602Z",
     "iopub.status.busy": "2022-07-15T09:13:08.806073Z",
     "iopub.status.idle": "2022-07-15T09:13:18.908342Z",
     "shell.execute_reply": "2022-07-15T09:13:18.907207Z",
     "shell.execute_reply.started": "2022-07-15T09:13:08.806554Z"
    },
    "tags": []
   },
   "outputs": [],
   "source": [
    "!python demo/Quantexsr_demo.py \\\n",
    "--input ./data/Quantexsr_demo/lq/ \\\n",
    "--weight /openbayes/input/input1/FeMaSR_SRX4_model_g.pth \\\n",
    "--output ./results/"
   ]
  },
  {
   "cell_type": "markdown",
   "metadata": {
    "execution": {
     "iopub.execute_input": "2022-06-02T02:36:43.333532Z",
     "iopub.status.busy": "2022-06-02T02:36:43.333122Z",
     "iopub.status.idle": "2022-06-02T02:36:43.340894Z",
     "shell.execute_reply": "2022-06-02T02:36:43.339456Z",
     "shell.execute_reply.started": "2022-06-02T02:36:43.333483Z"
    }
   },
   "source": [
    "### 配置路径\n",
    "* [./demo/restoration_demo.py](demo/restoration_demo.py)\n",
    "* lq_folder=\"./data/Quantexsr_demo/lq\", gt_folder=\"./data/Quantexsr_demo/gt\"\n",
    "* pth=\"/openbayes/input/input1/FeMaSR_SRX4_model_g.pth\"\n",
    "* 数据集为demo数据集，路径为./data/Quantexsr_demo\n",
    "* 模型文件input1为obvisionflow预训练模型：FeMaSR_SRX4_model_g.pth，ID为Ia3EMC6xMSA"
   ]
  },
  {
   "cell_type": "code",
   "execution_count": null,
   "metadata": {
    "execution": {
     "iopub.execute_input": "2022-07-15T09:13:18.910960Z",
     "iopub.status.busy": "2022-07-15T09:13:18.910484Z",
     "iopub.status.idle": "2022-07-15T09:13:36.842081Z",
     "shell.execute_reply": "2022-07-15T09:13:36.840947Z",
     "shell.execute_reply.started": "2022-07-15T09:13:18.910911Z"
    },
    "tags": []
   },
   "outputs": [],
   "source": [
    "!python demo/restoration_demo.py \\\n",
    "        configs/quantexsr/Quantexsr.py \\\n",
    "        /openbayes/input/input1/FeMaSR_SRX4_model_g.pth \\\n",
    "        ./data/Quantexsr_demo/lq/baboon.png \\\n",
    "        ./results/demo_out_baboon.png"
   ]
  },
  {
   "cell_type": "markdown",
   "metadata": {},
   "source": [
    "### 配置路径\n",
    "* [./demo/color_demo.py](./demo/color_demo.py)\n",
    "* dataroot =\"/openbayes/input/input0/ILSVRC\"\n",
    "* 数据集为demo的数据集，路径为./data/ILSVRC/train\n",
    "* 模型文件input1为obvisionflow预训练模型：color_siggraph_regre2.pth\n",
    "* pth=\"/openbayes/input/input1/color_siggraph_regre2.pth\"\n",
    "* demo为自动上色结果效果展示，如需测试交互上色效果，可在demo/Interactive-demo.ipynb中修改pth路径、ab value、patch等参数，测试交互上色效果"
   ]
  },
  {
   "cell_type": "code",
   "execution_count": null,
   "metadata": {},
   "outputs": [],
   "source": [
    "!python ./demo/color_demo.py \\\n",
    "-i ./data/ILSVRC/test/dog.jpeg \\\n",
    "-w /openbayes/input/input1/color_siggraph_regre2.pth \\\n",
    "-o ./results/ "
   ]
  },
  {
   "cell_type": "markdown",
   "metadata": {},
   "source": [
    "## Deep - video - prior"
   ]
  },
  {
   "cell_type": "markdown",
   "metadata": {
    "tags": []
   },
   "source": [
    "## 运行scripts\n"
   ]
  },
  {
   "cell_type": "markdown",
   "metadata": {},
   "source": [
    "### 配置路径\n",
    "* ./scripts/dvp.py\n",
    "* input=\"./data/dvp/input\", processed=\"./data/dvp/processed\"\n",
    "* 数据集为demo数据集。"
   ]
  },
  {
   "cell_type": "code",
   "execution_count": 1,
   "metadata": {
    "execution": {
     "iopub.execute_input": "2022-07-19T09:57:34.209816Z",
     "iopub.status.busy": "2022-07-19T09:57:34.209217Z",
     "iopub.status.idle": "2022-07-19T09:57:36.725877Z",
     "shell.execute_reply": "2022-07-19T09:57:36.724063Z",
     "shell.execute_reply.started": "2022-07-19T09:57:34.209680Z"
    },
    "tags": []
   },
   "outputs": [
    {
     "name": "stdout",
     "output_type": "stream",
     "text": [
      "Traceback (most recent call last):\n",
      "  File \"scripts/dvp.py\", line 17, in <module>\n",
      "    from mmdp.models.architectures.generator.dvp_arch import UNet as UnetGenerator\n",
      "ModuleNotFoundError: No module named 'mmdp'\n"
     ]
    }
   ],
   "source": [
    "!python scripts/dvp.py --input data/dvp/input/ \\\n",
    "--processed data/dvp/processed/ \\\n",
    "--output ./data/dvp/results \\\n",
    "--res_name go"
   ]
  }
 ],
 "metadata": {
  "kernelspec": {
   "display_name": "Python 3 (ipykernel)",
   "language": "python",
   "name": "python3"
  },
  "language_info": {
   "codemirror_mode": {
    "name": "ipython",
    "version": 3
   },
   "file_extension": ".py",
   "mimetype": "text/x-python",
   "name": "python",
   "nbconvert_exporter": "python",
   "pygments_lexer": "ipython3",
   "version": "3.8.11"
  },
  "vscode": {
   "interpreter": {
    "hash": "165747fd359067e21ba2cf9ff6487b05cee5cb17bf39f4da60e0ac5319f7664e"
   }
  }
 },
 "nbformat": 4,
 "nbformat_minor": 4
}
