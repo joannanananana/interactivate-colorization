{
 "cells": [
  {
   "cell_type": "code",
   "execution_count": 6,
   "metadata": {
    "execution": {
     "iopub.execute_input": "2022-01-28T10:25:21.118012Z",
     "iopub.status.busy": "2022-01-28T10:25:21.117518Z",
     "iopub.status.idle": "2022-01-28T10:25:21.130927Z",
     "shell.execute_reply": "2022-01-28T10:25:21.129743Z",
     "shell.execute_reply.started": "2022-01-28T10:25:21.117957Z"
    }
   },
   "outputs": [
    {
     "ename": "ModuleNotFoundError",
     "evalue": "No module named 'mmcv'",
     "output_type": "error",
     "traceback": [
      "\u001b[0;31m---------------------------------------------------------------------------\u001b[0m",
      "\u001b[0;31mModuleNotFoundError\u001b[0m                       Traceback (most recent call last)",
      "\u001b[0;32m<ipython-input-6-01e7e1aaaec7>\u001b[0m in \u001b[0;36m<module>\u001b[0;34m\u001b[0m\n\u001b[0;32m----> 1\u001b[0;31m \u001b[0;32mimport\u001b[0m \u001b[0mmmcv\u001b[0m\u001b[0;34m\u001b[0m\u001b[0;34m\u001b[0m\u001b[0m\n\u001b[0m\u001b[1;32m      2\u001b[0m \u001b[0;32mimport\u001b[0m \u001b[0mos\u001b[0m\u001b[0;34m\u001b[0m\u001b[0;34m\u001b[0m\u001b[0m\n\u001b[1;32m      3\u001b[0m \u001b[0;32mimport\u001b[0m \u001b[0mrandom\u001b[0m\u001b[0;34m\u001b[0m\u001b[0;34m\u001b[0m\u001b[0m\n\u001b[1;32m      4\u001b[0m \u001b[0;32mimport\u001b[0m \u001b[0mcv2\u001b[0m\u001b[0;34m\u001b[0m\u001b[0;34m\u001b[0m\u001b[0m\n\u001b[1;32m      5\u001b[0m \u001b[0;32mfrom\u001b[0m \u001b[0mtqdm\u001b[0m \u001b[0;32mimport\u001b[0m \u001b[0mtqdm\u001b[0m\u001b[0;34m\u001b[0m\u001b[0;34m\u001b[0m\u001b[0m\n",
      "\u001b[0;31mModuleNotFoundError\u001b[0m: No module named 'mmcv'"
     ]
    }
   ],
   "source": [
    "import mmcv\n",
    "import os\n",
    "import random\n",
    "import cv2\n",
    "from tqdm import tqdm"
   ]
  },
  {
   "cell_type": "code",
   "execution_count": 7,
   "metadata": {
    "execution": {
     "iopub.execute_input": "2022-01-28T10:25:22.838179Z",
     "iopub.status.busy": "2022-01-28T10:25:22.837696Z",
     "iopub.status.idle": "2022-01-28T10:25:22.921344Z",
     "shell.execute_reply": "2022-01-28T10:25:22.920175Z",
     "shell.execute_reply.started": "2022-01-28T10:25:22.838125Z"
    },
    "tags": []
   },
   "outputs": [],
   "source": [
    "train_video_folder = \"/openbayes/home/videos/train/\"\n",
    "train_img_folder = \"/openbayes/home/warblack/train/\"\n",
    "test_video_folder = \"/openbayes/home/videos/test/\"\n",
    "test_img_folder = \"/openbayes/home/warblack/test/\"\n",
    "num_of_frames_1video = 10000\n",
    "\n",
    "i = 0"
   ]
  },
  {
   "cell_type": "code",
   "execution_count": 8,
   "metadata": {
    "execution": {
     "iopub.execute_input": "2022-01-28T10:25:24.217883Z",
     "iopub.status.busy": "2022-01-28T10:25:24.217385Z",
     "iopub.status.idle": "2022-01-28T10:25:24.226996Z",
     "shell.execute_reply": "2022-01-28T10:25:24.225785Z",
     "shell.execute_reply.started": "2022-01-28T10:25:24.217829Z"
    },
    "tags": []
   },
   "outputs": [],
   "source": [
    "def save_pair_img(img, img_name, img_folder):\n",
    "    img = mmcv.imresize(img, (256, 256), return_scale=False)\n",
    "    img_rgb = mmcv.bgr2rgb(img)\n",
    "    img_gray = mmcv.rgb2gray(img_rgb)\n",
    "    img_final = cv2.merge([img_gray,img_gray,img_gray])\n",
    "    img_ret = cv2.hconcat([img_final, img])\n",
    "        #img_final = cv2.merge([img_gray,img_gray,img_gray])\n",
    "#         print(img_bgr.shape, img_gray.shape, img_final.shape)\n",
    "    cv2.imwrite(img_folder + img_name, img_ret)"
   ]
  },
  {
   "cell_type": "code",
   "execution_count": 9,
   "metadata": {
    "execution": {
     "iopub.execute_input": "2022-01-28T10:25:25.017887Z",
     "iopub.status.busy": "2022-01-28T10:25:25.017384Z",
     "iopub.status.idle": "2022-01-28T10:25:25.028905Z",
     "shell.execute_reply": "2022-01-28T10:25:25.027630Z",
     "shell.execute_reply.started": "2022-01-28T10:25:25.017831Z"
    }
   },
   "outputs": [],
   "source": [
    "def cut_video_folder(video_folder):\n",
    "    for rs, ds, fs in os.walk(video_folder):\n",
    "        for f in fs:\n",
    "            video_path = video_folder + f\n",
    "            print(video_path)\n",
    "            video = mmcv.VideoReader(video_path)\n",
    "            total_frames = len(video) - 7000 ## skip ed \n",
    "            start_frames = 7000 ##skip op\n",
    "            sampled_frames = random.sample(range(start_frames, total_frames), num_of_frames_1video)\n",
    "            sampled_frames.sort()\n",
    "            for frame_idx in tqdm(sampled_frames):\n",
    "                i += 1\n",
    "                save_pair_img(video[frame_idx], f+'_'+str(i)+'.jpg', img_folder)\n"
   ]
  },
  {
   "cell_type": "code",
   "execution_count": null,
   "metadata": {},
   "outputs": [],
   "source": [
    "cut_video_folder(train_video_folder)"
   ]
  },
  {
   "cell_type": "code",
   "execution_count": null,
   "metadata": {},
   "outputs": [],
   "source": [
    "cut_video_folder(test_video_folder)"
   ]
  }
 ],
 "metadata": {
  "kernelspec": {
   "display_name": "Python 3",
   "language": "python",
   "name": "python3"
  },
  "language_info": {
   "codemirror_mode": {
    "name": "ipython",
    "version": 3
   },
   "file_extension": ".py",
   "mimetype": "text/x-python",
   "name": "python",
   "nbconvert_exporter": "python",
   "pygments_lexer": "ipython3",
   "version": "3.6.13"
  }
 },
 "nbformat": 4,
 "nbformat_minor": 4
}
